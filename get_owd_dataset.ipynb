{
 "cells": [
  {
   "attachments": {},
   "cell_type": "markdown",
   "metadata": {},
   "source": [
    "# Obtain Data from different sources"
   ]
  },
  {
   "cell_type": "code",
   "execution_count": 39,
   "metadata": {},
   "outputs": [],
   "source": [
    "import requests\n",
    "import os\n",
    "os.chdir(\"c:\\\\Users\\\\marci\\\\dev\\\\Week2_Proj_Energy\\\\dataproc\")"
   ]
  },
  {
   "attachments": {},
   "cell_type": "markdown",
   "metadata": {},
   "source": [
    "## Get data from Our world data OWID"
   ]
  },
  {
   "cell_type": "code",
   "execution_count": 10,
   "metadata": {},
   "outputs": [
    {
     "name": "stdout",
     "output_type": "stream",
     "text": [
      "{'total_count': 2, 'incomplete_results': False, 'items': [{'name': 'owid-energy-data.csv', 'path': 'owid-energy-data.csv', 'sha': 'ce187932337c4355dee6eee0b56594175d8e71d1', 'url': 'https://api.github.com/repositories/293849648/contents/owid-energy-data.csv?ref=3f87dc05571713dab0ca12e37df9792b4293665a', 'git_url': 'https://api.github.com/repositories/293849648/git/blobs/ce187932337c4355dee6eee0b56594175d8e71d1', 'html_url': 'https://github.com/owid/energy-data/blob/3f87dc05571713dab0ca12e37df9792b4293665a/owid-energy-data.csv', 'repository': {'id': 293849648, 'node_id': 'MDEwOlJlcG9zaXRvcnkyOTM4NDk2NDg=', 'name': 'energy-data', 'full_name': 'owid/energy-data', 'private': False, 'owner': {'login': 'owid', 'id': 14187135, 'node_id': 'MDEyOk9yZ2FuaXphdGlvbjE0MTg3MTM1', 'avatar_url': 'https://avatars.githubusercontent.com/u/14187135?v=4', 'gravatar_id': '', 'url': 'https://api.github.com/users/owid', 'html_url': 'https://github.com/owid', 'followers_url': 'https://api.github.com/users/owid/followers', 'following_url': 'https://api.github.com/users/owid/following{/other_user}', 'gists_url': 'https://api.github.com/users/owid/gists{/gist_id}', 'starred_url': 'https://api.github.com/users/owid/starred{/owner}{/repo}', 'subscriptions_url': 'https://api.github.com/users/owid/subscriptions', 'organizations_url': 'https://api.github.com/users/owid/orgs', 'repos_url': 'https://api.github.com/users/owid/repos', 'events_url': 'https://api.github.com/users/owid/events{/privacy}', 'received_events_url': 'https://api.github.com/users/owid/received_events', 'type': 'Organization', 'site_admin': False}, 'html_url': 'https://github.com/owid/energy-data', 'description': 'Data on energy by Our World in Data ', 'fork': False, 'url': 'https://api.github.com/repos/owid/energy-data', 'forks_url': 'https://api.github.com/repos/owid/energy-data/forks', 'keys_url': 'https://api.github.com/repos/owid/energy-data/keys{/key_id}', 'collaborators_url': 'https://api.github.com/repos/owid/energy-data/collaborators{/collaborator}', 'teams_url': 'https://api.github.com/repos/owid/energy-data/teams', 'hooks_url': 'https://api.github.com/repos/owid/energy-data/hooks', 'issue_events_url': 'https://api.github.com/repos/owid/energy-data/issues/events{/number}', 'events_url': 'https://api.github.com/repos/owid/energy-data/events', 'assignees_url': 'https://api.github.com/repos/owid/energy-data/assignees{/user}', 'branches_url': 'https://api.github.com/repos/owid/energy-data/branches{/branch}', 'tags_url': 'https://api.github.com/repos/owid/energy-data/tags', 'blobs_url': 'https://api.github.com/repos/owid/energy-data/git/blobs{/sha}', 'git_tags_url': 'https://api.github.com/repos/owid/energy-data/git/tags{/sha}', 'git_refs_url': 'https://api.github.com/repos/owid/energy-data/git/refs{/sha}', 'trees_url': 'https://api.github.com/repos/owid/energy-data/git/trees{/sha}', 'statuses_url': 'https://api.github.com/repos/owid/energy-data/statuses/{sha}', 'languages_url': 'https://api.github.com/repos/owid/energy-data/languages', 'stargazers_url': 'https://api.github.com/repos/owid/energy-data/stargazers', 'contributors_url': 'https://api.github.com/repos/owid/energy-data/contributors', 'subscribers_url': 'https://api.github.com/repos/owid/energy-data/subscribers', 'subscription_url': 'https://api.github.com/repos/owid/energy-data/subscription', 'commits_url': 'https://api.github.com/repos/owid/energy-data/commits{/sha}', 'git_commits_url': 'https://api.github.com/repos/owid/energy-data/git/commits{/sha}', 'comments_url': 'https://api.github.com/repos/owid/energy-data/comments{/number}', 'issue_comment_url': 'https://api.github.com/repos/owid/energy-data/issues/comments{/number}', 'contents_url': 'https://api.github.com/repos/owid/energy-data/contents/{+path}', 'compare_url': 'https://api.github.com/repos/owid/energy-data/compare/{base}...{head}', 'merges_url': 'https://api.github.com/repos/owid/energy-data/merges', 'archive_url': 'https://api.github.com/repos/owid/energy-data/{archive_format}{/ref}', 'downloads_url': 'https://api.github.com/repos/owid/energy-data/downloads', 'issues_url': 'https://api.github.com/repos/owid/energy-data/issues{/number}', 'pulls_url': 'https://api.github.com/repos/owid/energy-data/pulls{/number}', 'milestones_url': 'https://api.github.com/repos/owid/energy-data/milestones{/number}', 'notifications_url': 'https://api.github.com/repos/owid/energy-data/notifications{?since,all,participating}', 'labels_url': 'https://api.github.com/repos/owid/energy-data/labels{/name}', 'releases_url': 'https://api.github.com/repos/owid/energy-data/releases{/id}', 'deployments_url': 'https://api.github.com/repos/owid/energy-data/deployments'}, 'score': 1.0}, {'name': 'owid-energy-codebook.csv', 'path': 'owid-energy-codebook.csv', 'sha': '37ff66851643db1fa16e31fa0181c7f7e57597b1', 'url': 'https://api.github.com/repositories/293849648/contents/owid-energy-codebook.csv?ref=5c4d622a54fc16c44855bd70f94138f210402f50', 'git_url': 'https://api.github.com/repositories/293849648/git/blobs/37ff66851643db1fa16e31fa0181c7f7e57597b1', 'html_url': 'https://github.com/owid/energy-data/blob/5c4d622a54fc16c44855bd70f94138f210402f50/owid-energy-codebook.csv', 'repository': {'id': 293849648, 'node_id': 'MDEwOlJlcG9zaXRvcnkyOTM4NDk2NDg=', 'name': 'energy-data', 'full_name': 'owid/energy-data', 'private': False, 'owner': {'login': 'owid', 'id': 14187135, 'node_id': 'MDEyOk9yZ2FuaXphdGlvbjE0MTg3MTM1', 'avatar_url': 'https://avatars.githubusercontent.com/u/14187135?v=4', 'gravatar_id': '', 'url': 'https://api.github.com/users/owid', 'html_url': 'https://github.com/owid', 'followers_url': 'https://api.github.com/users/owid/followers', 'following_url': 'https://api.github.com/users/owid/following{/other_user}', 'gists_url': 'https://api.github.com/users/owid/gists{/gist_id}', 'starred_url': 'https://api.github.com/users/owid/starred{/owner}{/repo}', 'subscriptions_url': 'https://api.github.com/users/owid/subscriptions', 'organizations_url': 'https://api.github.com/users/owid/orgs', 'repos_url': 'https://api.github.com/users/owid/repos', 'events_url': 'https://api.github.com/users/owid/events{/privacy}', 'received_events_url': 'https://api.github.com/users/owid/received_events', 'type': 'Organization', 'site_admin': False}, 'html_url': 'https://github.com/owid/energy-data', 'description': 'Data on energy by Our World in Data ', 'fork': False, 'url': 'https://api.github.com/repos/owid/energy-data', 'forks_url': 'https://api.github.com/repos/owid/energy-data/forks', 'keys_url': 'https://api.github.com/repos/owid/energy-data/keys{/key_id}', 'collaborators_url': 'https://api.github.com/repos/owid/energy-data/collaborators{/collaborator}', 'teams_url': 'https://api.github.com/repos/owid/energy-data/teams', 'hooks_url': 'https://api.github.com/repos/owid/energy-data/hooks', 'issue_events_url': 'https://api.github.com/repos/owid/energy-data/issues/events{/number}', 'events_url': 'https://api.github.com/repos/owid/energy-data/events', 'assignees_url': 'https://api.github.com/repos/owid/energy-data/assignees{/user}', 'branches_url': 'https://api.github.com/repos/owid/energy-data/branches{/branch}', 'tags_url': 'https://api.github.com/repos/owid/energy-data/tags', 'blobs_url': 'https://api.github.com/repos/owid/energy-data/git/blobs{/sha}', 'git_tags_url': 'https://api.github.com/repos/owid/energy-data/git/tags{/sha}', 'git_refs_url': 'https://api.github.com/repos/owid/energy-data/git/refs{/sha}', 'trees_url': 'https://api.github.com/repos/owid/energy-data/git/trees{/sha}', 'statuses_url': 'https://api.github.com/repos/owid/energy-data/statuses/{sha}', 'languages_url': 'https://api.github.com/repos/owid/energy-data/languages', 'stargazers_url': 'https://api.github.com/repos/owid/energy-data/stargazers', 'contributors_url': 'https://api.github.com/repos/owid/energy-data/contributors', 'subscribers_url': 'https://api.github.com/repos/owid/energy-data/subscribers', 'subscription_url': 'https://api.github.com/repos/owid/energy-data/subscription', 'commits_url': 'https://api.github.com/repos/owid/energy-data/commits{/sha}', 'git_commits_url': 'https://api.github.com/repos/owid/energy-data/git/commits{/sha}', 'comments_url': 'https://api.github.com/repos/owid/energy-data/comments{/number}', 'issue_comment_url': 'https://api.github.com/repos/owid/energy-data/issues/comments{/number}', 'contents_url': 'https://api.github.com/repos/owid/energy-data/contents/{+path}', 'compare_url': 'https://api.github.com/repos/owid/energy-data/compare/{base}...{head}', 'merges_url': 'https://api.github.com/repos/owid/energy-data/merges', 'archive_url': 'https://api.github.com/repos/owid/energy-data/{archive_format}{/ref}', 'downloads_url': 'https://api.github.com/repos/owid/energy-data/downloads', 'issues_url': 'https://api.github.com/repos/owid/energy-data/issues{/number}', 'pulls_url': 'https://api.github.com/repos/owid/energy-data/pulls{/number}', 'milestones_url': 'https://api.github.com/repos/owid/energy-data/milestones{/number}', 'notifications_url': 'https://api.github.com/repos/owid/energy-data/notifications{?since,all,participating}', 'labels_url': 'https://api.github.com/repos/owid/energy-data/labels{/name}', 'releases_url': 'https://api.github.com/repos/owid/energy-data/releases{/id}', 'deployments_url': 'https://api.github.com/repos/owid/energy-data/deployments'}, 'score': 1.0}]}\n"
     ]
    }
   ],
   "source": [
    "url = \"https://api.github.com/search/code?q=.csv+in:path+repo:owid/energy-data\"\n",
    "result = requests.get(url)\n",
    "print(result.json())"
   ]
  },
  {
   "cell_type": "code",
   "execution_count": 20,
   "metadata": {},
   "outputs": [
    {
     "name": "stdout",
     "output_type": "stream",
     "text": [
      "https://api.github.com/repositories/293849648/contents/owid-energy-data.csv?ref=3f87dc05571713dab0ca12e37df9792b4293665a\n"
     ]
    }
   ],
   "source": [
    "file_url = result.json()[\"items\"][0][\"url\"] #GET ITEMS directly\n",
    "print(file_url)\n"
   ]
  },
  {
   "cell_type": "code",
   "execution_count": 21,
   "metadata": {},
   "outputs": [
    {
     "data": {
      "text/plain": [
       "{'name': 'owid-energy-data.csv',\n",
       " 'path': 'owid-energy-data.csv',\n",
       " 'sha': 'ce187932337c4355dee6eee0b56594175d8e71d1',\n",
       " 'size': 8310494,\n",
       " 'url': 'https://api.github.com/repos/owid/energy-data/contents/owid-energy-data.csv?ref=3f87dc05571713dab0ca12e37df9792b4293665a',\n",
       " 'html_url': 'https://github.com/owid/energy-data/blob/3f87dc05571713dab0ca12e37df9792b4293665a/owid-energy-data.csv',\n",
       " 'git_url': 'https://api.github.com/repos/owid/energy-data/git/blobs/ce187932337c4355dee6eee0b56594175d8e71d1',\n",
       " 'download_url': 'https://raw.githubusercontent.com/owid/energy-data/3f87dc05571713dab0ca12e37df9792b4293665a/owid-energy-data.csv',\n",
       " 'type': 'file',\n",
       " 'content': '',\n",
       " 'encoding': 'none',\n",
       " '_links': {'self': 'https://api.github.com/repos/owid/energy-data/contents/owid-energy-data.csv?ref=3f87dc05571713dab0ca12e37df9792b4293665a',\n",
       "  'git': 'https://api.github.com/repos/owid/energy-data/git/blobs/ce187932337c4355dee6eee0b56594175d8e71d1',\n",
       "  'html': 'https://github.com/owid/energy-data/blob/3f87dc05571713dab0ca12e37df9792b4293665a/owid-energy-data.csv'}}"
      ]
     },
     "execution_count": 21,
     "metadata": {},
     "output_type": "execute_result"
    }
   ],
   "source": [
    "fileresp = requests.get(file_url)\n",
    "fileresp.json()\n"
   ]
  },
  {
   "cell_type": "code",
   "execution_count": 26,
   "metadata": {},
   "outputs": [
    {
     "name": "stdout",
     "output_type": "stream",
     "text": [
      "https://raw.githubusercontent.com/owid/energy-data/3f87dc05571713dab0ca12e37df9792b4293665a/owid-energy-data.csv\n"
     ]
    }
   ],
   "source": [
    "print(fileresp.json()[\"download_url\"])"
   ]
  },
  {
   "cell_type": "code",
   "execution_count": 34,
   "metadata": {},
   "outputs": [],
   "source": [
    "res = requests.get(fileresp.json()[\"download_url\"])\n"
   ]
  },
  {
   "cell_type": "code",
   "execution_count": 40,
   "metadata": {},
   "outputs": [],
   "source": [
    "with open(\"open_energy_data.csv\",'wb') as file:\n",
    "    file.write(res.content)"
   ]
  },
  {
   "cell_type": "code",
   "execution_count": 38,
   "metadata": {},
   "outputs": [
    {
     "data": {
      "text/plain": [
       "'c:\\\\ProgramData\\\\Microsoft VS Code'"
      ]
     },
     "execution_count": 38,
     "metadata": {},
     "output_type": "execute_result"
    }
   ],
   "source": [
    "os.getcwd()"
   ]
  },
  {
   "attachments": {},
   "cell_type": "markdown",
   "metadata": {},
   "source": [
    "## Codebook"
   ]
  },
  {
   "cell_type": "code",
   "execution_count": 42,
   "metadata": {},
   "outputs": [
    {
     "name": "stdout",
     "output_type": "stream",
     "text": [
      "https://api.github.com/repositories/293849648/contents/owid-energy-codebook.csv?ref=5c4d622a54fc16c44855bd70f94138f210402f50\n"
     ]
    }
   ],
   "source": [
    "file_url = result.json()[\"items\"][1][\"url\"] #GET ITEMS directly\n",
    "print(file_url)\n",
    "fileresp = requests.get(file_url)\n",
    "res = requests.get(fileresp.json()[\"download_url\"])\n",
    "with open(\"open_energy_data_codebook.csv\",'wb') as file:\n",
    "    file.write(res.content)\n"
   ]
  }
 ],
 "metadata": {
  "kernelspec": {
   "display_name": "danalysis",
   "language": "python",
   "name": "python3"
  },
  "language_info": {
   "codemirror_mode": {
    "name": "ipython",
    "version": 3
   },
   "file_extension": ".py",
   "mimetype": "text/x-python",
   "name": "python",
   "nbconvert_exporter": "python",
   "pygments_lexer": "ipython3",
   "version": "3.10.9 | packaged by conda-forge | (main, Jan 11 2023, 15:15:40) [MSC v.1916 64 bit (AMD64)]"
  },
  "orig_nbformat": 4,
  "vscode": {
   "interpreter": {
    "hash": "3480918d07d13c46f66614f2dce5fe9c8f95e8acd525651fc8ebd709fe83f169"
   }
  }
 },
 "nbformat": 4,
 "nbformat_minor": 2
}
